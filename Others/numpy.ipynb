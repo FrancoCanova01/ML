{
 "cells": [
  {
   "cell_type": "markdown",
   "metadata": {},
   "source": [
    "# Numpy"
   ]
  },
  {
   "cell_type": "code",
   "execution_count": 4,
   "metadata": {},
   "outputs": [],
   "source": [
    "import numpy as np"
   ]
  },
  {
   "cell_type": "markdown",
   "metadata": {},
   "source": [
    "## Basic"
   ]
  },
  {
   "cell_type": "markdown",
   "metadata": {},
   "source": [
    "### Array Slicing"
   ]
  },
  {
   "cell_type": "code",
   "execution_count": 8,
   "metadata": {},
   "outputs": [
    {
     "name": "stdout",
     "output_type": "stream",
     "text": [
      "[2 3 4 5]\n",
      "[2 4]\n",
      "[1 3 5 7]\n"
     ]
    }
   ],
   "source": [
    "# 1-D Slicing\n",
    "arr = np.array([1, 2, 3, 4, 5, 6, 7])\n",
    "print(arr[1:5])\n",
    "print(arr[1:5:2])\n",
    "print(arr[::2]) # Every other element (third value is step size)"
   ]
  },
  {
   "cell_type": "code",
   "execution_count": 14,
   "metadata": {},
   "outputs": [
    {
     "name": "stdout",
     "output_type": "stream",
     "text": [
      "[7 8 9]\n",
      "[3 8]\n",
      "[3 8]\n",
      "[[2 3 4]\n",
      " [7 8 9]]\n"
     ]
    }
   ],
   "source": [
    "# 2-D Slicing\n",
    "arr = np.array([[1, 2, 3, 4, 5], [6, 7, 8, 9, 10]])\n",
    "print(arr[1, 1:4]) # First row, then slicing\n",
    "print(arr[0:2, 2]) # Both rows, then access second element in both\n",
    "print(arr[0:5, 2]) # Note how if we specify more rows than exists it doesn't complain\n",
    "print(arr[0:2, 1:4])\n",
    "\n",
    "# Summary: The format to access is array[rows, columns], rows and columns can take scalar values (access specific row/column) and also slices."
   ]
  },
  {
   "cell_type": "code",
   "execution_count": null,
   "metadata": {},
   "outputs": [],
   "source": []
  },
  {
   "cell_type": "markdown",
   "metadata": {},
   "source": [
    "### Data Types\n",
    "Below is a list of all data types in NumPy and the characters used to represent them.\n",
    "\n",
    "- i - integer\n",
    "- b - boolean\n",
    "- u - unsigned integer\n",
    "- f - float\n",
    "- c - complex float\n",
    "- m - timedelta\n",
    "- M - datetime\n",
    "- O - object\n",
    "- S - string\n",
    "- U - unicode string\n",
    "- V - fixed chunk of memory for other type ( void )"
   ]
  },
  {
   "cell_type": "code",
   "execution_count": 23,
   "metadata": {},
   "outputs": [
    {
     "name": "stdout",
     "output_type": "stream",
     "text": [
      "int64\n",
      "////////////////////\n",
      "[b'1' b'2' b'3' b'4']\n",
      "|S1\n",
      "[1 2 3 4]\n",
      "int32\n",
      "////////////////////\n",
      "[1 2 3]\n",
      "int32\n"
     ]
    }
   ],
   "source": [
    "# Check data type of array\n",
    "arr = np.array([1, 2, 3, 4])\n",
    "print(arr.dtype) \n",
    "print(\"////////////////////\")\n",
    "# Create array of predefined data type. \n",
    "arr = np.array([1, 2, 3, 4], dtype='S')\n",
    "print(arr)\n",
    "print(arr.dtype)\n",
    "arr = np.array([1, 2, 3, 4], dtype='i4') # For i, u, f, S and U we can define size as well. In this case 4 bytes integer.\n",
    "print(arr)\n",
    "print(arr.dtype)\n",
    "print(\"////////////////////\")\n",
    "# Casting types\n",
    "arr = np.array([1.1, 2.1, 3.1])\n",
    "newarr = arr.astype('i')\n",
    "print(newarr)\n",
    "print(newarr.dtype)"
   ]
  },
  {
   "cell_type": "markdown",
   "metadata": {},
   "source": [
    "### Array Copy and View\n",
    "Copy is a new array, and the view is just a view of the original array:\n",
    "- The copy owns the data and any changes made to the copy will not affect original array, and any changes made to the original array will not affect the copy.\n",
    "- The view does not own the data and any changes made to the view will affect the original array, and any changes made to the original array will affect the view."
   ]
  },
  {
   "cell_type": "code",
   "execution_count": 72,
   "metadata": {},
   "outputs": [
    {
     "name": "stdout",
     "output_type": "stream",
     "text": [
      "None\n",
      "None\n",
      "[1 2 3 4 5]\n"
     ]
    }
   ],
   "source": [
    "arr = np.array([1, 2, 3, 4, 5])\n",
    "x = arr.copy()\n",
    "y = arr.view()\n",
    "\n",
    "# Every NumPy array has the attribute base that returns None if the array owns the data.\n",
    "print(arr.base) # Returns None\n",
    "print(x.base) # Returns None\n",
    "print(y.base) # Returns original data"
   ]
  },
  {
   "cell_type": "markdown",
   "metadata": {},
   "source": [
    "### Shape\n",
    "The shape of an array is the number of elements in each dimension."
   ]
  },
  {
   "cell_type": "code",
   "execution_count": 38,
   "metadata": {},
   "outputs": [
    {
     "name": "stdout",
     "output_type": "stream",
     "text": [
      "[1 2 3 4]\n",
      "Shape of array : (4,)\n",
      "/////////////\n",
      "[[1 2 3 4]\n",
      " [5 6 7 8]]\n",
      "Shape of array : (2, 4)\n",
      "/////////////\n",
      "[[[1 2 3 4]\n",
      "  [1 2 3 4]\n",
      "  [1 2 3 4]]\n",
      "\n",
      " [[1 2 3 4]\n",
      "  [1 2 3 4]\n",
      "  [1 2 3 4]]]\n",
      "Shape of array : (2, 3, 4)\n",
      "/////////////\n",
      "[[[[1 2 3 4]\n",
      "   [1 2 3 4]\n",
      "   [1 2 3 4]]]\n",
      "\n",
      "\n",
      " [[[1 2 3 4]\n",
      "   [1 2 3 4]\n",
      "   [1 2 3 4]]]]\n",
      "Shape of array : (2, 1, 3, 4)\n",
      "/////////////\n",
      "[[[[[1 2 3 4]]]]]\n",
      "Shape of array : (1, 1, 1, 1, 4)\n"
     ]
    }
   ],
   "source": [
    "# 1D\n",
    "arr = np.array([1, 2, 3, 4])\n",
    "print(arr)\n",
    "print('Shape of array :', arr.shape)\n",
    "print(\"/////////////\")\n",
    "# 2D\n",
    "arr = np.array([[1, 2, 3, 4], [5, 6, 7, 8]])\n",
    "print(arr)\n",
    "print('Shape of array :', arr.shape)\n",
    "print(\"/////////////\")\n",
    "# 3D\n",
    "arr = np.array([[[1, 2, 3, 4], [1, 2, 3, 4], [1, 2, 3, 4]], [[1, 2, 3, 4], [1, 2, 3, 4], [1, 2, 3, 4]]])\n",
    "print(arr)\n",
    "print('Shape of array :', arr.shape)\n",
    "print(\"/////////////\")\n",
    "# 4D\n",
    "arr = np.array([[[[1, 2, 3, 4], [1, 2, 3, 4], [1, 2, 3, 4]]], [[[1, 2, 3, 4], [1, 2, 3, 4], [1, 2, 3, 4]]]])\n",
    "print(arr)\n",
    "print('Shape of array :', arr.shape)\n",
    "print(\"/////////////\")\n",
    "# 5D\n",
    "arr = np.array([1, 2, 3, 4], ndmin=5)\n",
    "print(arr)\n",
    "print('Shape of array :', arr.shape)"
   ]
  },
  {
   "cell_type": "markdown",
   "metadata": {},
   "source": [
    "### Reshaping\n",
    "By reshaping we can add or remove dimensions or change number of elements in each dimension.\n",
    "**Can We Reshape Into any Shape?** Yes, as long as the elements required for reshaping are equal in both shapes.\n",
    "\n",
    "**Note:** There are a lot of functions for changing the shapes of arrays in numpy flatten, ravel and also for rearranging the elements rot90, flip, fliplr, flipud etc. These fall under Intermediate to Advanced section of numpy."
   ]
  },
  {
   "cell_type": "code",
   "execution_count": 47,
   "metadata": {},
   "outputs": [
    {
     "name": "stdout",
     "output_type": "stream",
     "text": [
      "Current Shape:  (12,)\n",
      "New Shape:  (4, 3)\n",
      "[[ 1  2  3]\n",
      " [ 4  5  6]\n",
      " [ 7  8  9]\n",
      " [10 11 12]]\n",
      "//////////////////\n",
      "Current Shape:  (12,)\n",
      "New Shape:  (4, 1, 3)\n",
      "[[[ 1  2  3]]\n",
      "\n",
      " [[ 4  5  6]]\n",
      "\n",
      " [[ 7  8  9]]\n",
      "\n",
      " [[10 11 12]]]\n",
      "//////////////////\n",
      "[ 1  2  3  4  5  6  7  8  9 10 11 12]\n",
      "//////////////////\n",
      "[[[1 2]\n",
      "  [3 4]]\n",
      "\n",
      " [[5 6]\n",
      "  [7 8]]]\n",
      "//////////////////\n",
      "[1 2 3 4 5 6]\n"
     ]
    }
   ],
   "source": [
    "# Reshape From 1-D to 2-D\n",
    "arr = np.array([1, 2, 3, 4, 5, 6, 7, 8, 9, 10, 11, 12])\n",
    "print(\"Current Shape: \", arr.shape)\n",
    "newarr = arr.reshape(4, 3) # 4x3=12\n",
    "print(\"New Shape: \", newarr.shape)\n",
    "print(newarr)\n",
    "print(\"//////////////////\")\n",
    "# Reshape From 1-D to 3-D\n",
    "arr = np.array([1, 2, 3, 4, 5, 6, 7, 8, 9, 10, 11, 12])\n",
    "print(\"Current Shape: \", arr.shape)\n",
    "newarr = arr.reshape(4, 1, 3)  # 4x1x3=12\n",
    "print(\"New Shape: \", newarr.shape)\n",
    "print(newarr)\n",
    "print(\"//////////////////\") \n",
    "# IMPORTANT: Reshaping returns a view!\n",
    "print(newarr.base)\n",
    "print(\"//////////////////\") \n",
    "# Unknown dimension. You do not have to specify an exact number for one of the dimensions in the reshape method. \n",
    "# Pass -1 as the value, and NumPy will calculate this number for you.\n",
    "arr = np.array([1, 2, 3, 4, 5, 6, 7, 8])\n",
    "newarr = arr.reshape(2, 2, -1)\n",
    "print(newarr)\n",
    "print(\"//////////////////\") \n",
    "# Flattening array\n",
    "arr = np.array([[1, 2, 3], [4, 5, 6]])\n",
    "newarr = arr.reshape(-1)\n",
    "print(newarr)"
   ]
  },
  {
   "cell_type": "markdown",
   "metadata": {},
   "source": [
    "\n",
    "### NumPy Array Iterating\n",
    "Instead of using for loops to iterate through each dimension one by one, we can use nditer(). Its a helping function that can be used from very basic to very advanced iterations. "
   ]
  },
  {
   "cell_type": "code",
   "execution_count": 52,
   "metadata": {},
   "outputs": [
    {
     "name": "stdout",
     "output_type": "stream",
     "text": [
      "1\n",
      "2\n",
      "3\n",
      "4\n",
      "5\n",
      "6\n",
      "7\n",
      "8\n",
      "///////////////\n",
      "np.bytes_(b'1')\n",
      "np.bytes_(b'2')\n",
      "np.bytes_(b'3')\n",
      "///////////////\n",
      "(0, 0, 0) 1\n",
      "(0, 0, 1) 2\n",
      "(0, 1, 0) 3\n",
      "(0, 1, 1) 4\n",
      "(1, 0, 0) 5\n",
      "(1, 0, 1) 6\n",
      "(1, 1, 0) 7\n",
      "(1, 1, 1) 8\n"
     ]
    }
   ],
   "source": [
    "# 3D Array\n",
    "arr = np.array([[[1, 2], [3, 4]], [[5, 6], [7, 8]]])\n",
    "\n",
    "for x in np.nditer(arr): # Note how no nested loops are necessary\n",
    "  print(x)\n",
    "print(\"///////////////\")\n",
    "# Casting datatypes while looping. We can use op_dtypes argument and pass it the expected datatype to change the datatype of elements \n",
    "# while iterating.NumPy does not change the data type of the element in-place (where the element is in array) so it needs some other \n",
    "# space to perform this action, that extra space is called buffer, and in order to enable it in nditer() we pass flags=['buffered'].\n",
    "arr = np.array([1, 2, 3])\n",
    "\n",
    "for x in np.nditer(arr, flags=['buffered'], op_dtypes=['S']):\n",
    "  print(x)\n",
    "\n",
    "print(\"///////////////\")\n",
    "# Sometimes we require corresponding index of the element while iterating, the ndenumerate() method can be used for those usecases.\n",
    "arr = np.array([[[1, 2], [3, 4]], [[5, 6], [7, 8]]])\n",
    "\n",
    "for idx, x in np.ndenumerate(arr):\n",
    "  print(idx, x)"
   ]
  },
  {
   "cell_type": "markdown",
   "metadata": {},
   "source": [
    "### NumPy Joining Array\n",
    "In NumPy we join arrays by axes. We pass a sequence of arrays that we want to join to the concatenate() function, along with the axis. If axis is not explicitly passed, it is taken as 0."
   ]
  },
  {
   "cell_type": "code",
   "execution_count": 62,
   "metadata": {},
   "outputs": [
    {
     "name": "stdout",
     "output_type": "stream",
     "text": [
      "[1 2 3 4 5 6]\n",
      "////////////////\n",
      "[[1 2 5 6]\n",
      " [3 4 7 8]]\n",
      "////////////////\n",
      "[[1 4]\n",
      " [2 5]\n",
      " [3 6]]\n",
      "////////////////\n",
      "[1 2 3 4 5 6]\n",
      "////////////////\n",
      "[[1 2 3]\n",
      " [4 5 6]]\n",
      "////////////////\n",
      "[[[1 4]\n",
      "  [2 5]\n",
      "  [3 6]]]\n"
     ]
    }
   ],
   "source": [
    "# Join two arrays along\n",
    "arr1 = np.array([1, 2, 3])\n",
    "arr2 = np.array([4, 5, 6])\n",
    "arr = np.concatenate((arr1, arr2))\n",
    "print(arr)\n",
    "print(\"////////////////\")\n",
    "# Join two arrays along axis 1 (rows)\n",
    "arr1 = np.array([[1, 2], [3, 4]])  # 1, 2 | 5, 6 -> 1 2 5 6\n",
    "arr2 = np.array([[5, 6], [7, 8]])  # 3, 4 | 7, 8 -> 3 4 7 8\n",
    "arr = np.concatenate((arr1, arr2), axis=1)\n",
    "print(arr)\n",
    "print(\"////////////////\")\n",
    "# Join using stack function. Stacking is same as concatenation, the only difference is that stacking is done along a new axis. We can concatenate \n",
    "# two 1-D arrays along the second axis which would result in putting them one over the other, ie. stacking.\n",
    "arr1 = np.array([1, 2, 3])\n",
    "arr2 = np.array([4, 5, 6])\n",
    "arr = np.stack((arr1, arr2), axis=1)\n",
    "print(arr)\n",
    "print(\"////////////////\")\n",
    "# NumPy provides a helper function: hstack() to stack along rows.\n",
    "arr1 = np.array([1, 2, 3])\n",
    "arr2 = np.array([4, 5, 6])\n",
    "arr = np.hstack((arr1, arr2))\n",
    "print(arr)\n",
    "print(\"////////////////\")\n",
    "# NumPy provides a helper function: vstack()  to stack along columns.\n",
    "arr1 = np.array([1, 2, 3])\n",
    "arr2 = np.array([4, 5, 6])\n",
    "arr = np.vstack((arr1, arr2))\n",
    "print(arr)\n",
    "print(\"////////////////\")\n",
    "# NumPy provides a helper function: dstack() to stack along height, which is the same as depth.\n",
    "arr1 = np.array([1, 2, 3])\n",
    "arr2 = np.array([4, 5, 6])\n",
    "arr = np.dstack((arr1, arr2))\n",
    "print(arr)\n"
   ]
  },
  {
   "cell_type": "markdown",
   "metadata": {},
   "source": [
    "### NumPy Splitting Array\n",
    "Splitting is reverse operation of Joining. We use array_split() for splitting arrays, we pass it the array we want to split and the number of splits.\n",
    "\n",
    "**Note:** We also have the method split() available but it will not adjust the elements when elements are less in source array for splitting like in example above, array_split() worked properly but split() would fail.\n",
    "\n",
    "**Note:** The return value of the array_split() method is an array containing each of the split as an array."
   ]
  },
  {
   "cell_type": "code",
   "execution_count": 85,
   "metadata": {},
   "outputs": [
    {
     "name": "stdout",
     "output_type": "stream",
     "text": [
      "[array([1, 2]), array([3, 4]), array([5, 6])]\n",
      "////////////////\n",
      "[array([[1, 2],\n",
      "       [3, 4]]), array([[5, 6],\n",
      "       [7, 8]]), array([[ 9, 10],\n",
      "       [11, 12]])]\n",
      "[array([1, 2]), array([3, 4]), array([5]), array([6])]\n",
      "////////////////\n",
      "[array([1]), array([2]), array([3]), array([4]), array([5]), array([6]), array([], dtype=int64), array([], dtype=int64), array([], dtype=int64), array([], dtype=int64)]\n",
      "////////////////\n",
      "[array([[ 1],\n",
      "       [ 4],\n",
      "       [ 7],\n",
      "       [10],\n",
      "       [13],\n",
      "       [16]]), array([[ 2],\n",
      "       [ 5],\n",
      "       [ 8],\n",
      "       [11],\n",
      "       [14],\n",
      "       [17]]), array([[ 3],\n",
      "       [ 6],\n",
      "       [ 9],\n",
      "       [12],\n",
      "       [15],\n",
      "       [18]])]\n"
     ]
    }
   ],
   "source": [
    "# Split array 1D\n",
    "arr = np.array([1, 2, 3, 4, 5, 6])\n",
    "newarr = np.array_split(arr, 3)\n",
    "print(newarr)\n",
    "print(\"////////////////\")\n",
    "# Split array 2D\n",
    "arr = np.array([[1, 2], [3, 4], [5, 6], [7, 8], [9, 10], [11, 12]])\n",
    "newarr = np.array_split(arr, 3)\n",
    "print(newarr)\n",
    "# Uneven split\n",
    "arr = np.array([1, 2, 3, 4, 5, 6])\n",
    "newarr = np.array_split(arr, 4)\n",
    "print(newarr)\n",
    "print(\"////////////////\")\n",
    "# Oversplit\n",
    "arr = np.array([1, 2, 3, 4, 5, 6])\n",
    "newarr = np.array_split(arr, 10)\n",
    "print(newarr)\n",
    "print(\"////////////////\")\n",
    "# In addition, you can specify which axis you want to do the split around.\n",
    "arr = np.array([[1, 2, 3], \n",
    "                [4, 5, 6], \n",
    "                [7, 8, 9], \n",
    "                [10, 11, 12], \n",
    "                [13, 14, 15], \n",
    "                [16, 17, 18]])\n",
    "newarr = np.array_split(arr, 3, axis=1)\n",
    "print(newarr)"
   ]
  },
  {
   "cell_type": "code",
   "execution_count": 87,
   "metadata": {},
   "outputs": [
    {
     "name": "stdout",
     "output_type": "stream",
     "text": [
      "[array([[ 1],\n",
      "       [ 4],\n",
      "       [ 7],\n",
      "       [10],\n",
      "       [13],\n",
      "       [16]]), array([[ 2],\n",
      "       [ 5],\n",
      "       [ 8],\n",
      "       [11],\n",
      "       [14],\n",
      "       [17]]), array([[ 3],\n",
      "       [ 6],\n",
      "       [ 9],\n",
      "       [12],\n",
      "       [15],\n",
      "       [18]])]\n"
     ]
    }
   ],
   "source": [
    "# An alternate solution is using hsplit() opposite of hstack(). Note: Similar alternates to vstack() and dstack() are available as vsplit() and dsplit()\n",
    "arr = np.array([[1, 2, 3], [4, 5, 6], [7, 8, 9], [10, 11, 12], [13, 14, 15], [16, 17, 18]])\n",
    "newarr = np.hsplit(arr, 3)\n",
    "print(newarr)\n"
   ]
  },
  {
   "cell_type": "markdown",
   "metadata": {},
   "source": [
    "### NumPy Searching Arrays\n",
    "You can search an array for a certain value, and return the indexes that get a match."
   ]
  },
  {
   "cell_type": "code",
   "execution_count": 93,
   "metadata": {},
   "outputs": [
    {
     "name": "stdout",
     "output_type": "stream",
     "text": [
      "(array([3, 5, 6]),)\n",
      "////////////////\n",
      "(array([1, 3, 5, 7]),)\n",
      "////////////////\n",
      "1\n",
      "////////////////\n",
      "2\n",
      "////////////////\n",
      "[1 2 3]\n"
     ]
    }
   ],
   "source": [
    "# Search array\n",
    "arr = np.array([1, 2, 3, 4, 5, 4, 4])\n",
    "x = np.where(arr == 4) # Returns indexes of matches\n",
    "print(x)\n",
    "print(\"////////////////\")\n",
    "arr = np.array([1, 2, 3, 4, 5, 6, 7, 8])\n",
    "x = np.where(arr%2 == 0)\n",
    "print(x)\n",
    "print(\"////////////////\")\n",
    "# There is a method called searchsorted() which performs a\n",
    "# binary search in the array, and returns the index where the specified \n",
    "# value would be inserted to maintain the search order. \n",
    "# It is assumed to be used on sorted arrays.\n",
    "arr = np.array([6, 7, 8, 9])\n",
    "x = np.searchsorted(arr, 7) # The number 7 should be inserted on index 1 to remain the sort order. It returns the first index where the number 7 is no longer larger than the next value.\n",
    "print(x)\n",
    "print(\"////////////////\")\n",
    "# Search from right side\n",
    "arr = np.array([6, 7, 8, 9])\n",
    "x = np.searchsorted(arr, 7, side='right') # Find the indexes where the value 7 should be inserted, starting from the right\n",
    "print(x)\n",
    "print(\"////////////////\")\n",
    "# Search for multiple values\n",
    "arr = np.array([1, 3, 5, 7])\n",
    "x = np.searchsorted(arr, [2, 4, 6])\n",
    "print(x)"
   ]
  },
  {
   "cell_type": "markdown",
   "metadata": {},
   "source": [
    "### NumPy Sorting Arrays\n",
    "The NumPy ndarray object has a function called sort(), that will sort a specified array.\n",
    "\n",
    "**Note:** This method returns a copy of the array, leaving the original array unchanged."
   ]
  },
  {
   "cell_type": "code",
   "execution_count": 98,
   "metadata": {},
   "outputs": [
    {
     "name": "stdout",
     "output_type": "stream",
     "text": [
      "[0 1 2 3]\n",
      "////////////////\n",
      "[[2 3 4]\n",
      " [0 1 5]]\n",
      "////////////////\n"
     ]
    }
   ],
   "source": [
    "# Sort Array 1D \n",
    "arr = np.array([3, 2, 0, 1])\n",
    "print(np.sort(arr))\n",
    "print(\"////////////////\")\n",
    "# Sort Array 2D \n",
    "arr = np.array([[3, 2, 4], [5, 0, 1]])\n",
    "print(np.sort(arr))\n",
    "print(\"////////////////\")"
   ]
  },
  {
   "cell_type": "markdown",
   "metadata": {},
   "source": [
    "### NumPy Filter Array\n",
    "Getting some elements out of an existing array and creating a new array out of them is called filtering. In NumPy, you filter an array using a boolean index list (similar to pandas)."
   ]
  },
  {
   "cell_type": "code",
   "execution_count": 102,
   "metadata": {},
   "outputs": [
    {
     "name": "stdout",
     "output_type": "stream",
     "text": [
      "[41 43]\n",
      "////////////////\n",
      "[False, False, True, True]\n",
      "[43 44]\n",
      "////////////////\n",
      "[False False  True  True]\n",
      "[43 44]\n"
     ]
    }
   ],
   "source": [
    "# Boolean indexing example\n",
    "arr = np.array([41, 42, 43, 44])\n",
    "x = [True, False, True, False]\n",
    "newarr = arr[x]\n",
    "print(newarr)\n",
    "print(\"////////////////\")\n",
    "# The common use is to create a filter array based on conditions.\n",
    "arr = np.array([41, 42, 43, 44])\n",
    "filter_arr = []\n",
    "for element in arr:\n",
    "  if element > 42:\n",
    "    filter_arr.append(True)\n",
    "  else:\n",
    "    filter_arr.append(False)\n",
    "newarr = arr[filter_arr]\n",
    "print(filter_arr)\n",
    "print(newarr)\n",
    "print(\"////////////////\")\n",
    "# Or using a more concise form\n",
    "arr = np.array([41, 42, 43, 44])\n",
    "filter_arr = arr > 42\n",
    "newarr = arr[filter_arr]\n",
    "print(filter_arr)\n",
    "print(newarr)"
   ]
  },
  {
   "cell_type": "markdown",
   "metadata": {},
   "source": [
    "## Random"
   ]
  },
  {
   "cell_type": "code",
   "execution_count": null,
   "metadata": {},
   "outputs": [],
   "source": []
  }
 ],
 "metadata": {
  "kernelspec": {
   "display_name": "Python 3",
   "language": "python",
   "name": "python3"
  },
  "language_info": {
   "codemirror_mode": {
    "name": "ipython",
    "version": 3
   },
   "file_extension": ".py",
   "mimetype": "text/x-python",
   "name": "python",
   "nbconvert_exporter": "python",
   "pygments_lexer": "ipython3",
   "version": "3.12.4"
  }
 },
 "nbformat": 4,
 "nbformat_minor": 2
}
